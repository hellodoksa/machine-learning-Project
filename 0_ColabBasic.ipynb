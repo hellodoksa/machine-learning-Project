{
  "nbformat": 4,
  "nbformat_minor": 0,
  "metadata": {
    "colab": {
      "name": "0.ColabBasic.ipynb",
      "provenance": [],
      "collapsed_sections": [],
      "toc_visible": true,
      "authorship_tag": "ABX9TyOyzmRwZxnBUGHORZlP9VzL",
      "include_colab_link": true
    },
    "kernelspec": {
      "name": "python3",
      "display_name": "Python 3"
    }
  },
  "cells": [
    {
      "cell_type": "markdown",
      "metadata": {
        "id": "view-in-github",
        "colab_type": "text"
      },
      "source": [
        "<a href=\"https://colab.research.google.com/github/hellodoksa/machine-learning-Project/blob/master/0_ColabBasic.ipynb\" target=\"_parent\"><img src=\"https://colab.research.google.com/assets/colab-badge.svg\" alt=\"Open In Colab\"/></a>"
      ]
    },
    {
      "cell_type": "markdown",
      "metadata": {
        "id": "s8zDJKZ0Lxss",
        "colab_type": "text"
      },
      "source": [
        "# 1. 연구목표 설정 \n",
        "\n",
        "## 프로젝트의 주제\n",
        "- 6단계 시스템 통합을 대비해서 1단계를 설정한다.\n",
        "- 목표 결론이 명확해야 한다. \n",
        "  - 넷플릭스 -> 추천 시스템의 정확도를 기존대비 3% 증가 시켜라\n",
        "  - 사용자가 텍스트를 넣으면 해당 텍스트의 언어를 감지해내라\n",
        "  - 신규서비스인가 ?\n",
        "  - 사내 프로그램용, 그룹웨어의 어떤 메뉴인가 ? \n",
        "  - 의사결정을 위한 레프트인가? \n",
        "- 주제가 새로운 주장에 근거한거라면? -> 관련 논문을 체크하자!\n",
        "  - **논문 검색 주소 제공해주기**\n",
        "- **데이터 분석의 목적 => 데이터에 대한 통찰을 얻는다.**\n",
        "\n"
      ]
    },
    {
      "cell_type": "markdown",
      "metadata": {
        "id": "iLkzdJBxL4cq",
        "colab_type": "text"
      },
      "source": [
        "# 2. 데이터 수집/확보 \n",
        "\n",
        "## 데이터 수집/확보 전략 \n",
        "  1. 제공 받는 데이터 : 공공데이터, 대학/연구기관 데이터 , 첼린지 데이터(kaggle) ,민원 \n",
        "    - 정형적 데이터 유형으로 제공된다. (이미 구조가 갖춰져 있다.)\n",
        "  - 공개는 되어 있는 데이터 : 직접 해결해야함 \n",
        "    - 반정형, 비정형적으로 데이터가 제공된다\n",
        "      2. open API  -> naver kakao google -> 쿼터 제한이 있따. \n",
        "      3. Wep scraping \n",
        "      4. Crawling으로 수집  - > selenium , web driver (주피터에서 해야 편하다)\n",
        "      (버젼 관리 필수)"
      ]
    },
    {
      "cell_type": "markdown",
      "metadata": {
        "id": "FjKzHdWML8GD",
        "colab_type": "text"
      },
      "source": [
        "#3. 데이터 준비 \n",
        "\n",
        "- 전처리, 정제, 적제 등등\n",
        "- 데이터의 품질을 향상 시킨다. -> 품질을 향상 시켜라 ! \n",
        "- 데이터 성분 종류 \n",
        "  - 수치 \n",
        "    - 정수 \n",
        "      -  0 or 1   : 이진 데이터, 바이너리, 원핫인코딩 방식\n",
        "      -  ...-1 0 1... : 정규화 처리가 진행되서 0과1 사이에 값으로 바꾼다.\n",
        "\n",
        "    - 부동소수 : -1.xx 0 1.xxx\n",
        "\n",
        "  - 문자열\n",
        "    - 문자열 -> 형태소분석기 (konlpy > Mecab) -> 분절 > 형태소가 나온다 => 사전을 생성 => 사전에는 인덱스가 존재 => 형태소를 인덱스로 치환 => 0,1로 인코딩( 원핫 인코딩) , 범주형 변수 \n",
        "- **결국 모든 데이터는 머신러닝, 딥러닝을 위해서 수치화 해야한다.**"
      ]
    },
    {
      "cell_type": "markdown",
      "metadata": {
        "id": "Eie2BsH-L-Ti",
        "colab_type": "text"
      },
      "source": [
        "#4. 데이터 분석  \n",
        "\n",
        "##=> 결국 데이터에 대한 통찰을 해야 한다.!!\n",
        "\n",
        "## 분석\n",
        "  - Descriptive Analysis  (설명/서술 분석)\n",
        "  - Exploratory Analysis  (탐색적 분석)\n",
        "  - Inferential Analysis  (추론/통계적 분석)\n",
        "  - Predictive Analysis   (예측 분석)\n",
        "  - Causal Analysis       (인과/통계적 분석)\n",
        "  - Machanistic Analysis  (기계적 분석)\n"
      ]
    },
    {
      "cell_type": "markdown",
      "metadata": {
        "id": "EblNZmSfnfQ3",
        "colab_type": "text"
      },
      "source": [
        "### Descriptive Analysis (설명/서술 분석)\n",
        "- 기초분석\n",
        "- 기본 통계량 분석\n",
        "- 요약과 집계를 수행, 데이터의 성질, 특성, 유형등을 확인\n",
        "- 시각화\n",
        "  - Pie, Bar, Box\n",
        "- Data Shape, dim, head, tail, describe, info 등 다양하게 데이터의 전체를 확인"
      ]
    },
    {
      "cell_type": "markdown",
      "metadata": {
        "id": "MUuuOM6SiDJQ",
        "colab_type": "text"
      },
      "source": [
        "### Exploratory Analysis (탐색적 분석)\n",
        "- EDA \n",
        "- 중간에 재미있는 요소가 발견되도, 원 목적에 부합하게 진행시킨다. \n",
        "- mayplotlib , seaborn, folium lib 사용"
      ]
    },
    {
      "cell_type": "markdown",
      "metadata": {
        "id": "en7-ySIuiDMQ",
        "colab_type": "text"
      },
      "source": [
        "### Inferential Analysis (추론/통계적 분석)\n",
        "- 모집단, 표본(샘플)간의 관계를 탐구하고, 표본을 모집합에 적용시키는 방법에 대해서 분석\n",
        "- 95% 정확도 확률로 모집단의 평균 점수, 표준편차를 구한다."
      ]
    },
    {
      "cell_type": "markdown",
      "metadata": {
        "id": "Ouo3SXJMky34",
        "colab_type": "text"
      },
      "source": [
        "### Causal Analysis (인과/통계적 분석)\n",
        "- 독립과 종속 변수간의 인과관계를 밝힌다!\n",
        "- A/B 테스트 \n",
        "- 회귀 \n",
        "  - 변수가 2개인 상관성을 분석한다. \n",
        "    - 선형 회귀\n",
        "  - 변수가 여러개의 상관성을 분석 \n",
        "    - 다중 회귀\n",
        "  - 범수가 범주형이면 \n",
        "    - 로지스틱 회귀 "
      ]
    },
    {
      "cell_type": "markdown",
      "metadata": {
        "id": "rYZfWPe_iDQR",
        "colab_type": "text"
      },
      "source": [
        "### Predictive Analysis (예측 분석)\n",
        "- 머신러닝, 결정트리(알고리즘 등) + 통계적 기법들을 사용한다. \n",
        "- 미래, 발생하지 않은 사건에 대해 예측을 진행 \n",
        "- 이유보다는 정확한 예측이 더 중요하다!\n",
        "  - Ex) 다이어트 성공률을 높이기 위한 다양한 변수들이 존재, 이런 변수들간의 관계성 보다는 어떤 변수들을 활용해서 성공율을 높일 수 있는지 예측력을 높이는 쪽으로 더 집중되어 있다. \n",
        "  - 나아가 솔루션을 제공할 수 있다.\n"
      ]
    },
    {
      "cell_type": "markdown",
      "metadata": {
        "id": "5PArQQcVh9JX",
        "colab_type": "text"
      },
      "source": [
        "### Machanistic Analysis  (기계적 분석)\n",
        "  - 독립변수가 종속변수에게 어떤 매커니즘으로 영향을 미치는가?\n",
        "  - 독립변수가 종속변수간의 인과관계 + 어떤 독립 변수가 어떤 작용을 하여 영향을 미치는지까지 전개\n",
        "  - 머신러닝 (기계적 학습)\n",
        "    - 지도학습\n",
        "      - 분류 Classification\n",
        "        - *딥러닝*\n",
        "      - 회귀 Regression\n",
        "      - 비지도 학습\n",
        "        - 군집화 : clustering\n",
        "        - 전처리기 : preprocessing\n",
        "      - 준지도 학습 \n",
        "        - 데이터가 일부분은 label이 존재하고 대부분은 label이 없다. \n",
        "      - 강화학습\n",
        "        - agent(에이전트) 존재하고, 잘한 행동에게는 보상, 잘못한 행동에게는 페널티를 제공하여 보상쪽으로 행동을 강화시키는 학습법 \n",
        "      - 딥러닝 (Deep learning)\n",
        "        : 인공 신경망을 통하여 학습을 진행하고, 이에 따른 분류, 행동을 취하거나 창조하거나 등등\n",
        "        : 가장 현재로써는 AI를 설명할때 가장 적절하다."
      ]
    },
    {
      "cell_type": "markdown",
      "metadata": {
        "id": "brIyZ7atiUUA",
        "colab_type": "text"
      },
      "source": [
        "##변수\n",
        " - 독립변수 , 상호간 영향을 미치지 않는다. feature(특성)\n",
        " - 종속변수 , 독립변수에 의해서 결정, label, class, 정답이라고 표현됨."
      ]
    },
    {
      "cell_type": "markdown",
      "metadata": {
        "id": "R7QGkdNEMArE",
        "colab_type": "text"
      },
      "source": [
        "#5. 데이터 모델링 구축\n",
        "\n",
        "- 머신러닝기준\n",
        "  - 알고리즘 선택(선택시트)\n",
        "  - 데이터를 학습용(=훈련용)과 테스트용으로 나누다. (75:25 or 80:20)\n",
        "  - 75 (50:25, 학습용 : 검증용) <- 폴드 \n",
        "- 학습 -> fit(),xxxfit()\n",
        "- 예측 -> 테스트용 데이터를 이용\n",
        "- 성능평가 \n",
        "  - 분류 : 혼동(오차)행렬 (정확도, 정밀도, f1-score, ROC curve, AUR)\n",
        "  - 회귀 : 평균제곱근오차 -> 손실함수\n",
        "  - 최적화 \n",
        "    - 데이터량의 증가 (학습량 증가)\n",
        "    - 알고리즘 교체? 고민해야함 (교차검증)\n",
        "    - 데이터의 품질 고민 \n",
        "    - 하이퍼파라미터 튜닝\n",
        "      - 파이프라인 구축 (교차검증)\n",
        "    - 목표치에 도달할 때까지 반복\n",
        "    - 시스템 통합에 적합한 구조로 덤프(파일로 저장)"
      ]
    },
    {
      "cell_type": "markdown",
      "metadata": {
        "id": "C59HDcjXMp1q",
        "colab_type": "text"
      },
      "source": [
        "# 6. 시스템 통합\n",
        "\n",
        "- 신규 서비스 \n",
        "  - 학습한 알고리즘 덤프 파일을 로드 \n",
        "  - 신규데이터가 진입 => 학습 했던 데이터로 변환 => 예측, 생성, 등등\n",
        "  -로그처리 => 데이터를 모은다 => 알고리즘의 성능 개선 => 온라인학습, 배치학습 등등\n",
        "- 레포트\n",
        "  - 보고서 (통계에 많이 사용)\n",
        "    - 의사결정에 재료로 제공\n",
        "\n",
        "- 기성 S/W에 추가\n",
        "  - GUI\n",
        "    - qt5\n",
        "  - Web (Django Flask)\n",
        "  - Process(os 단 백그라운드 처리)\n",
        "  - Mobile( android, ios단에서 ML 지원모듈활용, 모델을 제공 -> tenserflow lite)"
      ]
    },
    {
      "cell_type": "code",
      "metadata": {
        "id": "D7aUxcGr-WJi",
        "colab_type": "code",
        "outputId": "45d74a19-64dc-4e84-b98d-3c8aaaeb81ea",
        "colab": {
          "base_uri": "https://localhost:8080/",
          "height": 285
        }
      },
      "source": [
        "from IPython.display import Image\n",
        "Image( '/content/6.시스템통합_최종산출물.png', width=500 )\n",
        "# 최종 산출물\n",
        "# 웹기반(간단한 flask로 정리)\n",
        "# 머신러닝 (SVM.SVC)으로 언어 감지, 딥러닝 (RNN , 다대다 신경망 구성)으로 언어 번역"
      ],
      "execution_count": 0,
      "outputs": [
        {
          "output_type": "execute_result",
          "data": {
            "image/png": "[encoded data removed]",
            "text/plain": [
              "<IPython.core.display.Image object>"
            ]
          },
          "metadata": {
            "tags": [],
            "image/png": {
              "width": 500
            }
          },
          "execution_count": 8
        }
      ]
    },
    {
      "cell_type": "markdown",
      "metadata": {
        "id": "BhPl2hVgAVR7",
        "colab_type": "text"
      },
      "source": [
        "## 구동원리 \n",
        "- 1. 사용자가 번역에 필요한 글자를 입력한다\n",
        "(알파벳만 사용, 영어권만 해당)\n",
        "- 2. 언어감지라는 버튼을 클릭한다. \n",
        "- 3. 언어를 읽어서 서버로 전송 \n",
        "- 4. 서버에서 데이터를 알고리즘이 예측할 수 있는 형태로 변환처리 \n",
        "- 5. 예측\n",
        "- 6. 예측결과를 응답 \n",
        "- 7. 응답 결과를 화면에 표시 "
      ]
    },
    {
      "cell_type": "code",
      "metadata": {
        "id": "VVsDTQCe-yOa",
        "colab_type": "code",
        "colab": {}
      },
      "source": [
        ""
      ],
      "execution_count": 0,
      "outputs": []
    }
  ]
}