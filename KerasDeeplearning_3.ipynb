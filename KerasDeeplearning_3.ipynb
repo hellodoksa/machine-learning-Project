{
  "nbformat": 4,
  "nbformat_minor": 0,
  "metadata": {
    "colab": {
      "name": "KerasDeeplearning-3.ipynb",
      "provenance": [],
      "collapsed_sections": [],
      "authorship_tag": "ABX9TyP3ewOhQO9RWzVi8mMAUx3F",
      "include_colab_link": true
    },
    "kernelspec": {
      "name": "python3",
      "display_name": "Python 3"
    }
  },
  "cells": [
    {
      "cell_type": "markdown",
      "metadata": {
        "id": "view-in-github",
        "colab_type": "text"
      },
      "source": [
        "<a href=\"https://colab.research.google.com/github/hellodoksa/machine-learning-Project/blob/master/KerasDeeplearning_3.ipynb\" target=\"_parent\"><img src=\"https://colab.research.google.com/assets/colab-badge.svg\" alt=\"Open In Colab\"/></a>"
      ]
    },
    {
      "cell_type": "markdown",
      "metadata": {
        "id": "JoH0Fx18rbvv",
        "colab_type": "text"
      },
      "source": [
        "# LSTM을 배워보자!\n",
        "- LSTM은 한 층안에서 반복을 많이 해야 하는 RNN의 특성상 일반 신경망 보다 \n",
        "기울기 소실 문제가 더 많이 발생하고 이를 해결하기 어렵다는 단점을 보완한 방법이다.!\n",
        "\n"
      ]
    },
    {
      "cell_type": "code",
      "metadata": {
        "id": "1xgsLGN_hxyV",
        "colab_type": "code",
        "colab": {}
      },
      "source": [
        "from keras.datasets import reuters\n",
        "import numpy \n",
        "from keras.utils import np_utils"
      ],
      "execution_count": 0,
      "outputs": []
    },
    {
      "cell_type": "code",
      "metadata": {
        "id": "0CXlNa1Piigi",
        "colab_type": "code",
        "colab": {}
      },
      "source": [
        "## 20%를 테스트 셋으롤 생성하자 \n",
        "(x_train,y_train) ,(x_test,y_test) = reuters.load_data(num_words= 1000, test_split=0.2) \n"
      ],
      "execution_count": 0,
      "outputs": []
    },
    {
      "cell_type": "code",
      "metadata": {
        "id": "K5iP8aPIiyeR",
        "colab_type": "code",
        "outputId": "acc30d12-598e-4224-cd9d-6f01fa6412d4",
        "colab": {
          "base_uri": "https://localhost:8080/",
          "height": 110
        }
      },
      "source": [
        "## 데이터 아에서 해당 단어가 몇번이나 나타나는지 세어 빈도에 따라 번호를 붙임 \n",
        "## num_words : 빈도가 1~ 1000에 해당하는 단어만 불러온다. \n",
        "\n",
        "category = numpy.max(y_train) +1  ##y_train의 종류를 구함 \n",
        "print(category ,\": 카테고리\" )\n",
        "print(len(x_train) , \"학습용 뉴스 기사 \")\n",
        "print(len(x_test) , \": 테스트용 뉴스 기사 \")\n",
        "print(x_train[0])"
      ],
      "execution_count": 0,
      "outputs": [
        {
          "output_type": "stream",
          "text": [
            "46 : 카테고리\n",
            "8982 학습용 뉴스 기사 \n",
            "2246 : 테스트용 뉴스 기사 \n",
            "[1, 2, 2, 8, 43, 10, 447, 5, 25, 207, 270, 5, 2, 111, 16, 369, 186, 90, 67, 7, 89, 5, 19, 102, 6, 19, 124, 15, 90, 67, 84, 22, 482, 26, 7, 48, 4, 49, 8, 864, 39, 209, 154, 6, 151, 6, 83, 11, 15, 22, 155, 11, 15, 7, 48, 9, 2, 2, 504, 6, 258, 6, 272, 11, 15, 22, 134, 44, 11, 15, 16, 8, 197, 2, 90, 67, 52, 29, 209, 30, 32, 132, 6, 109, 15, 17, 12]\n"
          ],
          "name": "stdout"
        }
      ]
    },
    {
      "cell_type": "code",
      "metadata": {
        "id": "vQcl8V1clpEv",
        "colab_type": "code",
        "colab": {}
      },
      "source": [
        "# 각 기사들의 단어 수가 다르므로 이를 동일하게 맞춰줘야 한다. (전처리 과정 )\n",
        "from keras.preprocessing import sequence"
      ],
      "execution_count": 0,
      "outputs": []
    },
    {
      "cell_type": "code",
      "metadata": {
        "id": "pOb-PgWOjbkD",
        "colab_type": "code",
        "colab": {}
      },
      "source": [
        "# 데이터 전처리 \n",
        "# maxlen : 단어 수를 100개로 맞춰라 \n",
        "x_train = sequence.pad_sequences(x_train , maxlen=100)\n",
        "x_test  = sequence.pad_sequences(x_test , maxlen=100)\n",
        "\n",
        "# 원핫 인코딩 \n",
        "y_train = np_utils.to_categorical(y_train)\n",
        "y_test = np_utils.to_categorical(y_test)"
      ],
      "execution_count": 0,
      "outputs": []
    },
    {
      "cell_type": "code",
      "metadata": {
        "id": "o58__dG8lAx3",
        "colab_type": "code",
        "colab": {}
      },
      "source": [
        "## 모델 만들자잉 \n",
        "from keras.models import Sequential \n",
        "from keras.layers import Dense, LSTM, Embedding \n",
        "model = Sequential()\n",
        "\n",
        "# Embedding : 데이터 전처리 과정을 통해 입력된 값을 받아 다음 층이 알아들을 수 있는 형태로 반환 \n",
        "# (불러온 단어의 총 개수 , 기사당 언어의 수 )\n",
        "model.add(Embedding(1000, 100))\n",
        "\n",
        "# LSTM : RNN에서 기억 값에 대한 가중치를 제어 \n",
        "# LSTM(기사당 단어의 수 , 기타 옵션 ) , 활성화 함수는 tanh를  사용 \n",
        "model.add(LSTM(100,activation='tanh'))\n",
        "model.add(Dense(46,activation='softmax'))"
      ],
      "execution_count": 0,
      "outputs": []
    },
    {
      "cell_type": "code",
      "metadata": {
        "id": "Rq9myyainPfR",
        "colab_type": "code",
        "outputId": "c3e17362-51a2-41a5-dffe-15283b3db53b",
        "colab": {
          "base_uri": "https://localhost:8080/",
          "height": 874
        }
      },
      "source": [
        "#모델 컴파일 \n",
        "model.compile(loss='categorical_crossentropy' , optimizer='adam' , metrics=['accuracy'])\n",
        "\n",
        "# 모델의 실행 \n",
        "history = model.fit(x_train, y_train , batch_size=100, epochs =20 , validation_data=(x_test,y_test))\n",
        "\n",
        "# 테스트 정확도 출력\n",
        "print(\"\\n Test Accuracy : %.4f\" % (model.evaluate(x_test,y_test)[1]))"
      ],
      "execution_count": 0,
      "outputs": [
        {
          "output_type": "stream",
          "text": [
            "/usr/local/lib/python3.6/dist-packages/tensorflow/python/framework/indexed_slices.py:434: UserWarning: Converting sparse IndexedSlices to a dense Tensor of unknown shape. This may consume a large amount of memory.\n",
            "  \"Converting sparse IndexedSlices to a dense Tensor of unknown shape. \"\n"
          ],
          "name": "stderr"
        },
        {
          "output_type": "stream",
          "text": [
            "Train on 8982 samples, validate on 2246 samples\n",
            "Epoch 1/20\n",
            "8982/8982 [==============================] - 25s 3ms/step - loss: 2.4497 - accuracy: 0.4183 - val_loss: 2.0505 - val_accuracy: 0.5004\n",
            "Epoch 2/20\n",
            "8982/8982 [==============================] - 24s 3ms/step - loss: 2.0659 - accuracy: 0.4767 - val_loss: 1.9796 - val_accuracy: 0.5102\n",
            "Epoch 3/20\n",
            "8982/8982 [==============================] - 24s 3ms/step - loss: 1.8374 - accuracy: 0.5296 - val_loss: 1.8376 - val_accuracy: 0.5387\n",
            "Epoch 4/20\n",
            "8982/8982 [==============================] - 24s 3ms/step - loss: 1.7262 - accuracy: 0.5561 - val_loss: 1.7359 - val_accuracy: 0.5619\n",
            "Epoch 5/20\n",
            "8982/8982 [==============================] - 24s 3ms/step - loss: 1.6584 - accuracy: 0.5668 - val_loss: 1.6929 - val_accuracy: 0.5775\n",
            "Epoch 6/20\n",
            "8982/8982 [==============================] - 24s 3ms/step - loss: 1.6092 - accuracy: 0.5841 - val_loss: 1.6256 - val_accuracy: 0.5917\n",
            "Epoch 7/20\n",
            "8982/8982 [==============================] - 24s 3ms/step - loss: 1.5286 - accuracy: 0.6068 - val_loss: 1.5440 - val_accuracy: 0.6126\n",
            "Epoch 8/20\n",
            "8982/8982 [==============================] - 25s 3ms/step - loss: 1.4189 - accuracy: 0.6363 - val_loss: 1.4545 - val_accuracy: 0.6362\n",
            "Epoch 9/20\n",
            "8982/8982 [==============================] - 24s 3ms/step - loss: 1.3065 - accuracy: 0.6601 - val_loss: 1.4441 - val_accuracy: 0.6349\n",
            "Epoch 10/20\n",
            "8982/8982 [==============================] - 24s 3ms/step - loss: 1.2133 - accuracy: 0.6886 - val_loss: 1.3544 - val_accuracy: 0.6607\n",
            "Epoch 11/20\n",
            "8982/8982 [==============================] - 24s 3ms/step - loss: 1.1555 - accuracy: 0.7017 - val_loss: 1.2809 - val_accuracy: 0.6741\n",
            "Epoch 12/20\n",
            "8982/8982 [==============================] - 24s 3ms/step - loss: 1.0936 - accuracy: 0.7170 - val_loss: 1.2635 - val_accuracy: 0.6830\n",
            "Epoch 13/20\n",
            "8982/8982 [==============================] - 24s 3ms/step - loss: 1.0439 - accuracy: 0.7342 - val_loss: 1.2638 - val_accuracy: 0.6852\n",
            "Epoch 14/20\n",
            "8982/8982 [==============================] - 24s 3ms/step - loss: 0.9955 - accuracy: 0.7443 - val_loss: 1.2300 - val_accuracy: 0.6897\n",
            "Epoch 15/20\n",
            "8982/8982 [==============================] - 25s 3ms/step - loss: 0.9530 - accuracy: 0.7552 - val_loss: 1.2155 - val_accuracy: 0.6946\n",
            "Epoch 16/20\n",
            "8982/8982 [==============================] - 24s 3ms/step - loss: 0.9146 - accuracy: 0.7646 - val_loss: 1.2375 - val_accuracy: 0.6955\n",
            "Epoch 17/20\n",
            "8982/8982 [==============================] - 24s 3ms/step - loss: 0.8840 - accuracy: 0.7705 - val_loss: 1.2454 - val_accuracy: 0.6932\n",
            "Epoch 18/20\n",
            "8982/8982 [==============================] - 24s 3ms/step - loss: 0.8471 - accuracy: 0.7816 - val_loss: 1.2026 - val_accuracy: 0.7004\n",
            "Epoch 19/20\n",
            "8982/8982 [==============================] - 24s 3ms/step - loss: 0.8211 - accuracy: 0.7852 - val_loss: 1.2474 - val_accuracy: 0.6928\n",
            "Epoch 20/20\n",
            "8982/8982 [==============================] - 24s 3ms/step - loss: 0.8005 - accuracy: 0.7947 - val_loss: 1.2158 - val_accuracy: 0.7012\n",
            "2246/2246 [==============================] - 2s 679us/step\n",
            "\n",
            " Test Accuracy : 0.7012\n"
          ],
          "name": "stdout"
        }
      ]
    },
    {
      "cell_type": "code",
      "metadata": {
        "id": "UUPaGbomo7ZB",
        "colab_type": "code",
        "colab": {}
      },
      "source": [
        ""
      ],
      "execution_count": 0,
      "outputs": []
    },
    {
      "cell_type": "markdown",
      "metadata": {
        "id": "QWH_Mexmrr5E",
        "colab_type": "text"
      },
      "source": [
        "# LSTM과 CNN의 조합을 이용하여 영화 리뷰 분류 "
      ]
    },
    {
      "cell_type": "code",
      "metadata": {
        "id": "tw97LDPxrz1e",
        "colab_type": "code",
        "colab": {}
      },
      "source": [
        "from keras.preprocessing import sequence \n",
        "from keras.models import Sequential \n",
        "from keras.layers import Dense , Dropout, Activation\n",
        "from keras.layers import Embedding \n",
        "from keras.layers import LSTM \n",
        "from keras.layers import Conv1D , MaxPooling1D\n",
        "from keras.datasets import imdb\n",
        "\n",
        "import numpy as np\n",
        "import tensorflow as tf \n",
        "import matplotlib.pyplot as plt "
      ],
      "execution_count": 0,
      "outputs": []
    },
    {
      "cell_type": "code",
      "metadata": {
        "id": "kbHyOsplsgJs",
        "colab_type": "code",
        "colab": {}
      },
      "source": [
        "# seed 값 설정 \n",
        "seed = 0 \n",
        "numpy.random.seed(seed)\n",
        "tf.random.set_seed(3)"
      ],
      "execution_count": 0,
      "outputs": []
    },
    {
      "cell_type": "code",
      "metadata": {
        "id": "2Kh-NwSVs1AU",
        "colab_type": "code",
        "colab": {}
      },
      "source": [
        "# 학습셋과 데이터 셋 지정하기 \n",
        "(xtrain, ytrain),(xtest,ytest) = imdb.load_data(num_words = 500 )\n",
        "\n",
        "# 데이터 전처리 \n",
        "xtrain = sequence.pad_sequences(xtrain, maxlen = 100)\n",
        "xtest = sequence.pad_sequences(xtest, maxlen = 100)\n"
      ],
      "execution_count": 0,
      "outputs": []
    },
    {
      "cell_type": "code",
      "metadata": {
        "id": "52Vi9nS8s__S",
        "colab_type": "code",
        "outputId": "71732b42-adab-44d9-fd36-8434fba56247",
        "colab": {
          "base_uri": "https://localhost:8080/",
          "height": 417
        }
      },
      "source": [
        "#모델의 설정 \n",
        "model = Sequential()\n",
        "model.add(Embedding(5000 , 100))\n",
        "model.add(Dropout(0.5))\n",
        "model.add(Conv1D(64 , 5, padding='valid' , activation = 'relu', strides = 1 ))\n",
        "model.add(MaxPooling1D(pool_size = 4 ))\n",
        "model.add(LSTM(55))\n",
        "model.add(Dense(1)) \n",
        "model.add(Activation('sigmoid'))\n",
        "model.summary()"
      ],
      "execution_count": 0,
      "outputs": [
        {
          "output_type": "stream",
          "text": [
            "Model: \"sequential_7\"\n",
            "_________________________________________________________________\n",
            "Layer (type)                 Output Shape              Param #   \n",
            "=================================================================\n",
            "embedding_6 (Embedding)      (None, None, 100)         500000    \n",
            "_________________________________________________________________\n",
            "dropout_3 (Dropout)          (None, None, 100)         0         \n",
            "_________________________________________________________________\n",
            "conv1d_3 (Conv1D)            (None, None, 64)          32064     \n",
            "_________________________________________________________________\n",
            "max_pooling1d_3 (MaxPooling1 (None, None, 64)          0         \n",
            "_________________________________________________________________\n",
            "lstm_6 (LSTM)                (None, 55)                26400     \n",
            "_________________________________________________________________\n",
            "dense_5 (Dense)              (None, 1)                 56        \n",
            "_________________________________________________________________\n",
            "activation_3 (Activation)    (None, 1)                 0         \n",
            "=================================================================\n",
            "Total params: 558,520\n",
            "Trainable params: 558,520\n",
            "Non-trainable params: 0\n",
            "_________________________________________________________________\n"
          ],
          "name": "stdout"
        }
      ]
    },
    {
      "cell_type": "code",
      "metadata": {
        "id": "VlIsF4Jxt2Yz",
        "colab_type": "code",
        "outputId": "06a0f8f4-fff3-48b9-ac9e-2c62dbef11cd",
        "colab": {
          "base_uri": "https://localhost:8080/",
          "height": 328
        }
      },
      "source": [
        "#모델 컴파일 \n",
        "model.compile(loss= 'binary_crossentropy' , optimizer = 'adam',metrics=['accuracy'])\n",
        "\n",
        "# 모델의 실행\n",
        "history = model.fit(xtrain,ytrain, batch_size = 100, epochs=5, validation_data=(xtest,ytest))\n",
        "\n",
        "#정확도 출력 \n",
        "print(\"\\n Test Accuracy : %.4f\" % (model.evaluate(xtest,ytest)[1]))"
      ],
      "execution_count": 0,
      "outputs": [
        {
          "output_type": "stream",
          "text": [
            "/usr/local/lib/python3.6/dist-packages/tensorflow/python/framework/indexed_slices.py:434: UserWarning: Converting sparse IndexedSlices to a dense Tensor of unknown shape. This may consume a large amount of memory.\n",
            "  \"Converting sparse IndexedSlices to a dense Tensor of unknown shape. \"\n"
          ],
          "name": "stderr"
        },
        {
          "output_type": "stream",
          "text": [
            "Train on 25000 samples, validate on 25000 samples\n",
            "Epoch 1/5\n",
            "25000/25000 [==============================] - 31s 1ms/step - loss: 0.5239 - accuracy: 0.7158 - val_loss: 0.4398 - val_accuracy: 0.7994\n",
            "Epoch 2/5\n",
            "25000/25000 [==============================] - 31s 1ms/step - loss: 0.4208 - accuracy: 0.8039 - val_loss: 0.4067 - val_accuracy: 0.8136\n",
            "Epoch 3/5\n",
            "25000/25000 [==============================] - 31s 1ms/step - loss: 0.4017 - accuracy: 0.8158 - val_loss: 0.4039 - val_accuracy: 0.8148\n",
            "Epoch 4/5\n",
            "25000/25000 [==============================] - 31s 1ms/step - loss: 0.3827 - accuracy: 0.8249 - val_loss: 0.3954 - val_accuracy: 0.8209\n",
            "Epoch 5/5\n",
            "25000/25000 [==============================] - 30s 1ms/step - loss: 0.3730 - accuracy: 0.8316 - val_loss: 0.3851 - val_accuracy: 0.8230\n",
            "25000/25000 [==============================] - 7s 281us/step\n",
            "\n",
            " Test Accuracy : 0.8230\n"
          ],
          "name": "stdout"
        }
      ]
    },
    {
      "cell_type": "code",
      "metadata": {
        "id": "jAQkyXD_vzN-",
        "colab_type": "code",
        "outputId": "834ab383-8fd0-4006-8cac-fd5be9a0fdf6",
        "colab": {
          "base_uri": "https://localhost:8080/",
          "height": 283
        }
      },
      "source": [
        "# 테스트셋의 오차 \n",
        "yvloss = history.history['val_loss']\n",
        "\n",
        "# 학습셋의 오차\n",
        "yloss = history.history['loss']\n",
        "\n",
        "#그래프로 표현 \n",
        "x_len = np.arange(len(yloss))\n",
        "plt.plot(x_len , yvloss ,marker = '.' , c=\"red\", label ='TestSet_loss')\n",
        "plt.plot(x_len , yloss  ,marker = '.' , c=\"blue\", label ='TrainSet_loss')"
      ],
      "execution_count": 0,
      "outputs": [
        {
          "output_type": "execute_result",
          "data": {
            "text/plain": [
              "[<matplotlib.lines.Line2D at 0x7ffa4b9779b0>]"
            ]
          },
          "metadata": {
            "tags": []
          },
          "execution_count": 54
        },
        {
          "output_type": "display_data",
          "data": {
            "image/png": "[encoded data removed]",
            "text/plain": [
              "<Figure size 432x288 with 1 Axes>"
            ]
          },
          "metadata": {
            "tags": [],
            "needs_background": "light"
          }
        }
      ]
    },
    {
      "cell_type": "code",
      "metadata": {
        "id": "2RzMIrwb0AVZ",
        "colab_type": "code",
        "colab": {}
      },
      "source": [
        "# 그래프에 그리드를 주고 레이블 표시 \n",
        "plt.legend(loc='upper right')\n",
        "plt.grid()\n",
        "plt.xlabel('epochs')\n",
        "plt.ylabel('loss')\n",
        "plt.show()"
      ],
      "execution_count": 0,
      "outputs": []
    },
    {
      "cell_type": "code",
      "metadata": {
        "id": "pIn0mITV3aQs",
        "colab_type": "code",
        "colab": {}
      },
      "source": [
        ""
      ],
      "execution_count": 0,
      "outputs": []
    }
  ]
}