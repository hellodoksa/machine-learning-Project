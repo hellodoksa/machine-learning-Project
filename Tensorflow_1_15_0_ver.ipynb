{
  "nbformat": 4,
  "nbformat_minor": 0,
  "metadata": {
    "colab": {
      "name": "Tensorflow-1.15.0_ver.ipynb",
      "provenance": [],
      "collapsed_sections": [],
      "authorship_tag": "ABX9TyP1y67E/MyrvBywuN+b5wjN",
      "include_colab_link": true
    },
    "kernelspec": {
      "name": "python3",
      "display_name": "Python 3"
    }
  },
  "cells": [
    {
      "cell_type": "markdown",
      "metadata": {
        "id": "view-in-github",
        "colab_type": "text"
      },
      "source": [
        "<a href=\"https://colab.research.google.com/github/hellodoksa/machine-learning-Project/blob/master/Tensorflow_1_15_0_ver.ipynb\" target=\"_parent\"><img src=\"https://colab.research.google.com/assets/colab-badge.svg\" alt=\"Open In Colab\"/></a>"
      ]
    },
    {
      "cell_type": "code",
      "metadata": {
        "id": "qqR0nPqYu26i",
        "colab_type": "code",
        "outputId": "1d2fb55e-c298-4d67-dfa1-118a20d4db82",
        "colab": {
          "base_uri": "https://localhost:8080/",
          "height": 901
        }
      },
      "source": [
        "!pip install tensorflow==1.15.0\n"
      ],
      "execution_count": 0,
      "outputs": [
        {
          "output_type": "stream",
          "text": [
            "Collecting tensorflow==1.15.0\n",
            "\u001b[?25l  Downloading https://files.pythonhosted.org/packages/3f/98/5a99af92fb911d7a88a0005ad55005f35b4c1ba8d75fba02df726cd936e6/tensorflow-1.15.0-cp36-cp36m-manylinux2010_x86_64.whl (412.3MB)\n",
            "\u001b[K     |████████████████████████████████| 412.3MB 27kB/s \n",
            "\u001b[?25hCollecting tensorboard<1.16.0,>=1.15.0\n",
            "\u001b[?25l  Downloading https://files.pythonhosted.org/packages/1e/e9/d3d747a97f7188f48aa5eda486907f3b345cd409f0a0850468ba867db246/tensorboard-1.15.0-py3-none-any.whl (3.8MB)\n",
            "\u001b[K     |████████████████████████████████| 3.8MB 43.7MB/s \n",
            "\u001b[?25hRequirement already satisfied: astor>=0.6.0 in /usr/local/lib/python3.6/dist-packages (from tensorflow==1.15.0) (0.8.1)\n",
            "Requirement already satisfied: wrapt>=1.11.1 in /usr/local/lib/python3.6/dist-packages (from tensorflow==1.15.0) (1.12.1)\n",
            "Requirement already satisfied: protobuf>=3.6.1 in /usr/local/lib/python3.6/dist-packages (from tensorflow==1.15.0) (3.10.0)\n",
            "Requirement already satisfied: six>=1.10.0 in /usr/local/lib/python3.6/dist-packages (from tensorflow==1.15.0) (1.12.0)\n",
            "Requirement already satisfied: google-pasta>=0.1.6 in /usr/local/lib/python3.6/dist-packages (from tensorflow==1.15.0) (0.2.0)\n",
            "Requirement already satisfied: keras-preprocessing>=1.0.5 in /usr/local/lib/python3.6/dist-packages (from tensorflow==1.15.0) (1.1.0)\n",
            "Requirement already satisfied: keras-applications>=1.0.8 in /usr/local/lib/python3.6/dist-packages (from tensorflow==1.15.0) (1.0.8)\n",
            "Requirement already satisfied: numpy<2.0,>=1.16.0 in /usr/local/lib/python3.6/dist-packages (from tensorflow==1.15.0) (1.18.4)\n",
            "Requirement already satisfied: opt-einsum>=2.3.2 in /usr/local/lib/python3.6/dist-packages (from tensorflow==1.15.0) (3.2.1)\n",
            "Requirement already satisfied: wheel>=0.26 in /usr/local/lib/python3.6/dist-packages (from tensorflow==1.15.0) (0.34.2)\n",
            "Collecting tensorflow-estimator==1.15.1\n",
            "\u001b[?25l  Downloading https://files.pythonhosted.org/packages/de/62/2ee9cd74c9fa2fa450877847ba560b260f5d0fb70ee0595203082dafcc9d/tensorflow_estimator-1.15.1-py2.py3-none-any.whl (503kB)\n",
            "\u001b[K     |████████████████████████████████| 512kB 48.2MB/s \n",
            "\u001b[?25hRequirement already satisfied: termcolor>=1.1.0 in /usr/local/lib/python3.6/dist-packages (from tensorflow==1.15.0) (1.1.0)\n",
            "Collecting gast==0.2.2\n",
            "  Downloading https://files.pythonhosted.org/packages/4e/35/11749bf99b2d4e3cceb4d55ca22590b0d7c2c62b9de38ac4a4a7f4687421/gast-0.2.2.tar.gz\n",
            "Requirement already satisfied: grpcio>=1.8.6 in /usr/local/lib/python3.6/dist-packages (from tensorflow==1.15.0) (1.28.1)\n",
            "Requirement already satisfied: absl-py>=0.7.0 in /usr/local/lib/python3.6/dist-packages (from tensorflow==1.15.0) (0.9.0)\n",
            "Requirement already satisfied: werkzeug>=0.11.15 in /usr/local/lib/python3.6/dist-packages (from tensorboard<1.16.0,>=1.15.0->tensorflow==1.15.0) (1.0.1)\n",
            "Requirement already satisfied: markdown>=2.6.8 in /usr/local/lib/python3.6/dist-packages (from tensorboard<1.16.0,>=1.15.0->tensorflow==1.15.0) (3.2.1)\n",
            "Requirement already satisfied: setuptools>=41.0.0 in /usr/local/lib/python3.6/dist-packages (from tensorboard<1.16.0,>=1.15.0->tensorflow==1.15.0) (46.3.0)\n",
            "Requirement already satisfied: h5py in /usr/local/lib/python3.6/dist-packages (from keras-applications>=1.0.8->tensorflow==1.15.0) (2.10.0)\n",
            "Building wheels for collected packages: gast\n",
            "  Building wheel for gast (setup.py) ... \u001b[?25l\u001b[?25hdone\n",
            "  Created wheel for gast: filename=gast-0.2.2-cp36-none-any.whl size=7540 sha256=f0c73cabb0549ed1197baadffc1a90c48c4dfcf4945fc34c38d1f75d9c697bee\n",
            "  Stored in directory: /root/.cache/pip/wheels/5c/2e/7e/a1d4d4fcebe6c381f378ce7743a3ced3699feb89bcfbdadadd\n",
            "Successfully built gast\n",
            "\u001b[31mERROR: tensorflow-probability 0.10.0rc0 has requirement gast>=0.3.2, but you'll have gast 0.2.2 which is incompatible.\u001b[0m\n",
            "Installing collected packages: tensorboard, tensorflow-estimator, gast, tensorflow\n",
            "  Found existing installation: tensorboard 2.2.1\n",
            "    Uninstalling tensorboard-2.2.1:\n",
            "      Successfully uninstalled tensorboard-2.2.1\n",
            "  Found existing installation: tensorflow-estimator 2.2.0\n",
            "    Uninstalling tensorflow-estimator-2.2.0:\n",
            "      Successfully uninstalled tensorflow-estimator-2.2.0\n",
            "  Found existing installation: gast 0.3.3\n",
            "    Uninstalling gast-0.3.3:\n",
            "      Successfully uninstalled gast-0.3.3\n",
            "  Found existing installation: tensorflow 2.2.0\n",
            "    Uninstalling tensorflow-2.2.0:\n",
            "      Successfully uninstalled tensorflow-2.2.0\n",
            "Successfully installed gast-0.2.2 tensorboard-1.15.0 tensorflow-1.15.0 tensorflow-estimator-1.15.1\n"
          ],
          "name": "stdout"
        }
      ]
    },
    {
      "cell_type": "code",
      "metadata": {
        "id": "pDo1OctAu9th",
        "colab_type": "code",
        "outputId": "67b06358-e72d-4828-a833-985f07f2d7ad",
        "colab": {
          "base_uri": "https://localhost:8080/",
          "height": 35
        }
      },
      "source": [
        "import tensorflow as tf \n",
        "tf.__version__"
      ],
      "execution_count": 0,
      "outputs": [
        {
          "output_type": "execute_result",
          "data": {
            "text/plain": [
              "'1.15.0'"
            ]
          },
          "metadata": {
            "tags": []
          },
          "execution_count": 7
        }
      ]
    },
    {
      "cell_type": "markdown",
      "metadata": {
        "id": "E6-whmy8vcw0",
        "colab_type": "text"
      },
      "source": [
        "# Tensorflow \n",
        "- 텐서플로는 크게 두 부분으로 나뉜다. \n",
        "  - (구성단계) : 첫 부분은 계산 그래프를 만듬\n",
        "  - (실행단계) : 그래프를 실행  \n",
        "- 매번  session run이 번거롭기 때문에 with  를 사용하자 ."
      ]
    },
    {
      "cell_type": "code",
      "metadata": {
        "id": "GjMXxYA2vcYN",
        "colab_type": "code",
        "colab": {}
      },
      "source": [
        "x = tf.Variable(3 , name = 'x')\n",
        "y = tf.Variable(2,  name = 'y')\n",
        "f = x*x + y +2 "
      ],
      "execution_count": 0,
      "outputs": []
    },
    {
      "cell_type": "code",
      "metadata": {
        "id": "kiEEDL42vaRy",
        "colab_type": "code",
        "colab": {}
      },
      "source": [
        "with tf.Session() as sess :\n",
        "  x.initializer.run()\n",
        "  y.initializer.run()\n",
        "  result = f.eval()"
      ],
      "execution_count": 0,
      "outputs": []
    },
    {
      "cell_type": "code",
      "metadata": {
        "id": "vkMTD-Tbv383",
        "colab_type": "code",
        "outputId": "68000aee-f6d6-40c3-e3ee-45ffdd602819",
        "colab": {
          "base_uri": "https://localhost:8080/",
          "height": 35
        }
      },
      "source": [
        "result"
      ],
      "execution_count": 0,
      "outputs": [
        {
          "output_type": "execute_result",
          "data": {
            "text/plain": [
              "13"
            ]
          },
          "metadata": {
            "tags": []
          },
          "execution_count": 8
        }
      ]
    },
    {
      "cell_type": "markdown",
      "metadata": {
        "id": "6q0Kf1ifwXZY",
        "colab_type": "text"
      },
      "source": [
        "- 매번 각 변수를 초기화 하기 힘드니 한번에 할 수 있다. \n",
        "- global_variable_initializer ()"
      ]
    },
    {
      "cell_type": "code",
      "metadata": {
        "id": "krZWtfrUwJTB",
        "colab_type": "code",
        "outputId": "a0e51fb6-fb2a-409b-9ce6-c8ce93e3ffd5",
        "colab": {
          "base_uri": "https://localhost:8080/",
          "height": 35
        }
      },
      "source": [
        "init = tf.global_variables_initializer()  # init 노드 준비 \n",
        "with tf.Session() as sess :\n",
        "  init.run()\n",
        "  result2 = f.eval()\n",
        "result2 "
      ],
      "execution_count": 0,
      "outputs": [
        {
          "output_type": "execute_result",
          "data": {
            "text/plain": [
              "13"
            ]
          },
          "metadata": {
            "tags": []
          },
          "execution_count": 11
        }
      ]
    },
    {
      "cell_type": "code",
      "metadata": {
        "id": "FdiyRg7KwyXC",
        "colab_type": "code",
        "colab": {}
      },
      "source": [
        "# 기본 그래프를 초기화 한다. \n",
        "tf.reset_default_graph()"
      ],
      "execution_count": 0,
      "outputs": []
    },
    {
      "cell_type": "markdown",
      "metadata": {
        "id": "fV7RuNZ2zdLo",
        "colab_type": "text"
      },
      "source": [
        "# 노드 값의 생애주기 \n",
        "- 한 노드를 평가할 때 텐서플로는 이 노드가 의존하고 있는 다른 노드들을 자동을으로 찾아 먼저 평가한다. \n",
        "- w와 x를 두번 평가한다. ( 재사용하지 않는다. )\n",
        "  - 텐서플로는 자동으로 y가 x에 의존한다는 것과 x가 w에 의존한다는 것을 감지 한다. \n",
        "  - 그래서 먼저 w를 평가하고 그다음에 x를, 그 다음에 y를 평가해서 y값을 반환 한다. \n",
        "  - 마지막으로 z를 평가하기 위해 그래프를 실행한다.\n",
        "  - 다시 한번 텐서플로는 먼저 w와 x를 평가해야 한다는 것을 감지한다. \n",
        "  - 이전에 평가된 w와 x를 재사용하지 않는 다는 점이 중요하다. !"
      ]
    },
    {
      "cell_type": "code",
      "metadata": {
        "id": "W5A8WEY1zcqA",
        "colab_type": "code",
        "outputId": "77834ffd-76e7-4bee-a374-d75ebdce05f3",
        "colab": {
          "base_uri": "https://localhost:8080/",
          "height": 53
        }
      },
      "source": [
        "w = tf.constant(3)\n",
        "x= tf.Variable( 3, name='x')\n",
        "x = w + 2\n",
        "y = x + 5\n",
        "z = x + 3 \n",
        "\n",
        "with tf.Session() as sess :\n",
        "  print(y.eval())\n",
        "  print(z.eval())"
      ],
      "execution_count": 0,
      "outputs": [
        {
          "output_type": "stream",
          "text": [
            "10\n",
            "8\n"
          ],
          "name": "stdout"
        }
      ]
    },
    {
      "cell_type": "markdown",
      "metadata": {
        "id": "WpJvEgui3Jhu",
        "colab_type": "text"
      },
      "source": [
        "- 단일 프로세스 텐서플로에서는 같은 그래프를 사용하더라도 여러 세션에서 어떤 상태도 공유하지 않습니다. \n",
        "- 각 세션은 모든 변수에 대해 고유한 복사본을 가집니다. \n",
        "- 변수 상태가 세션이 아니라 서버에 저장되므로 여러 세션이 같은 변수를 공유할 수 있다. "
      ]
    },
    {
      "cell_type": "markdown",
      "metadata": {
        "id": "xTHvR2xr3-De",
        "colab_type": "text"
      },
      "source": [
        "# 텐서플로를 이용한 선형 회귀 \n",
        "- 텐서플로 연산은 여러 개의 입력을 받아 출력을 만들 수 있다. \n",
        "- 입력과 출력은 텐서라는 다차원 배열이다. \n",
        "- Numpy 배열과 비슷하게 텐서는 데이터 타입과 크기를 가진다. (텐서는 python에서 ndarray로 나타남)\n"
      ]
    },
    {
      "cell_type": "markdown",
      "metadata": {
        "id": "SF02LWwE4390",
        "colab_type": "text"
      },
      "source": [
        "### 캘리포니아 주택 가격 데이터셋 \n",
        "- 넘파이를 대신하여 텐서플로를 통해 정규방정식을 계산하는 이유는 GPU를 사용하기 때문\n"
      ]
    },
    {
      "cell_type": "code",
      "metadata": {
        "id": "SAZBjByjzHnJ",
        "colab_type": "code",
        "colab": {}
      },
      "source": [
        "import numpy as np\n",
        "from sklearn.datasets import fetch_california_housing "
      ],
      "execution_count": 0,
      "outputs": []
    },
    {
      "cell_type": "code",
      "metadata": {
        "id": "s0GyrOWi5EQD",
        "colab_type": "code",
        "outputId": "55d7ff5b-fadb-4f79-fee8-da833ee3aaf9",
        "colab": {
          "base_uri": "https://localhost:8080/",
          "height": 35
        }
      },
      "source": [
        "hausing = fetch_california_housing()\n",
        "m,n = hausing.data.shape \n",
        "m,n"
      ],
      "execution_count": 0,
      "outputs": [
        {
          "output_type": "execute_result",
          "data": {
            "text/plain": [
              "(20640, 8)"
            ]
          },
          "metadata": {
            "tags": []
          },
          "execution_count": 21
        }
      ]
    },
    {
      "cell_type": "code",
      "metadata": {
        "id": "Ou4jssZA5LKG",
        "colab_type": "code",
        "colab": {}
      },
      "source": [
        "# 모든 훈련 샘플에 편향에 대한 입력 특성을 추가한다 \n",
        "hausing_data_plus_bias = np.c_[np.ones((m,1)) , hausing.data] # np.c_ : 두 개의 1차원 배열을 칼럼으로 세로로 붙여서 2차원 배열 만들기\n"
      ],
      "execution_count": 0,
      "outputs": []
    },
    {
      "cell_type": "code",
      "metadata": {
        "id": "8fBQvpxt5uHS",
        "colab_type": "code",
        "colab": {}
      },
      "source": [
        "# 두 개의 텐서플로 상수 노드 x와 y를 만들고 데이터와 타깃을 담는다.\n",
        "x = tf.constant(hausing_data_plus_bias , dtype=tf.float32 ,name='x')\n",
        "y = tf.constant(hausing.target.reshape(-1 ,1) , dtype=tf.float32, name ='y')\n",
        "\n",
        "## 텐서플로의 행렬 연산을 통해 theta를 구한다. \n",
        "## theta는 정규방정식의 정의이다. \n",
        "# tf.transpose(x)   : 전치행렬 \n",
        "# tf.matmul         : 점곱 \n",
        "# tf.matrix_inverse : 역행렬 계산 \n",
        "xt = tf.transpose(x) # 전치행렬 \n",
        "theta = tf.matmul(tf.matmul(tf.matrix_inverse(tf.matmul(xt ,x) ) ,xt),y)"
      ],
      "execution_count": 0,
      "outputs": []
    },
    {
      "cell_type": "code",
      "metadata": {
        "id": "e_rqNb-T7n0K",
        "colab_type": "code",
        "outputId": "ca5bc1fd-7e3b-4ea8-c9da-77cdf8da8141",
        "colab": {
          "base_uri": "https://localhost:8080/",
          "height": 179
        }
      },
      "source": [
        "with tf.Session() as sess :\n",
        "  theta_value = theta.eval()\n",
        "theta_value"
      ],
      "execution_count": 0,
      "outputs": [
        {
          "output_type": "execute_result",
          "data": {
            "text/plain": [
              "array([[-3.7144665e+01],\n",
              "       [ 4.3637392e-01],\n",
              "       [ 9.3933418e-03],\n",
              "       [-1.0714764e-01],\n",
              "       [ 6.4542186e-01],\n",
              "       [-4.1016874e-06],\n",
              "       [-3.7816020e-03],\n",
              "       [-4.2341197e-01],\n",
              "       [-4.3682083e-01]], dtype=float32)"
            ]
          },
          "metadata": {
            "tags": []
          },
          "execution_count": 24
        }
      ]
    },
    {
      "cell_type": "markdown",
      "metadata": {
        "id": "qWs82tFq-RYG",
        "colab_type": "text"
      },
      "source": [
        "# 경사하강법 구현 \n",
        "- 경사하강법을 사용할때는 입력 특성 벡터를 정규화 하는 것이 중요하다. \n",
        "- 그렇지 않으면 훈련 속도가 [느려]진다. "
      ]
    },
    {
      "cell_type": "markdown",
      "metadata": {
        "id": "_k_A9OLv-oX_",
        "colab_type": "text"
      },
      "source": [
        "### 1. 직접 그래디언트 계산 \n",
        "- tf.reduce_mean() : 텐서의 ㅍㅇ균을 계산하는 노드를 그래프에 추가 "
      ]
    },
    {
      "cell_type": "code",
      "metadata": {
        "id": "NhDS8GCe8AY3",
        "colab_type": "code",
        "colab": {}
      },
      "source": [
        "n_epochs = 100 \n",
        "learning_rate = 0.01"
      ],
      "execution_count": 0,
      "outputs": []
    },
    {
      "cell_type": "code",
      "metadata": {
        "id": "5rI5lzFx-0NC",
        "colab_type": "code",
        "colab": {}
      },
      "source": [
        "x= tf.constant(hausing_data_plus_bias , dtype = tf.float32 , name ='x')\n",
        "y=tf.constant(hausing.target.reshape(-1 ,1) , dtype= tf.float32 , name='y')\n",
        "theta = tf.Variable(tf.random_uniform([n+1 , 1] , -1.0 , 1.0 ) , name = 'theta')\n",
        "y_pred = tf.matmul(x, theta , name='predictions')\n",
        "\n",
        "error = y_pred - y \n",
        "mse = tf.reduce_mean(tf.square(error) , name ='mse')"
      ],
      "execution_count": 0,
      "outputs": []
    },
    {
      "cell_type": "code",
      "metadata": {
        "id": "0UsQm1eFfs5d",
        "colab_type": "code",
        "colab": {}
      },
      "source": [
        "# ==  Gradient를 직접 수학적으로 유도 하여 사용함 == # \n",
        "gradients = 2/m * tf.matmul(tf.transpose(x) , error )"
      ],
      "execution_count": 0,
      "outputs": []
    },
    {
      "cell_type": "code",
      "metadata": {
        "id": "pvoJ-eZvjt_3",
        "colab_type": "code",
        "outputId": "da50d3b4-fd7c-4033-f774-1585465cb0a3",
        "colab": {
          "base_uri": "https://localhost:8080/",
          "height": 1000
        }
      },
      "source": [
        "training_op = tf.assign(theta, theta - learning_rate * gradients )\n",
        "\n",
        "init = tf.global_variables_initializer()\n",
        "\n",
        "with tf.Session() as sess :\n",
        "  sess.run(init)\n",
        "\n",
        "  for epoch in range(n_epochs) :\n",
        "    #if epoch % 100 == 0 :\n",
        "    print(\"Epoch\" , epoch , \"MSE = \" , mse.eval())\n",
        "    \n",
        "  sess.run(training_op)\n",
        "  best_theta = theta.eval()\n"
      ],
      "execution_count": 0,
      "outputs": [
        {
          "output_type": "stream",
          "text": [
            "Epoch 0 MSE =  1835091.4\n",
            "Epoch 1 MSE =  1835091.4\n",
            "Epoch 2 MSE =  1835091.4\n",
            "Epoch 3 MSE =  1835091.4\n",
            "Epoch 4 MSE =  1835091.4\n",
            "Epoch 5 MSE =  1835091.4\n",
            "Epoch 6 MSE =  1835091.4\n",
            "Epoch 7 MSE =  1835091.4\n",
            "Epoch 8 MSE =  1835091.4\n",
            "Epoch 9 MSE =  1835091.4\n",
            "Epoch 10 MSE =  1835091.4\n",
            "Epoch 11 MSE =  1835091.4\n",
            "Epoch 12 MSE =  1835091.4\n",
            "Epoch 13 MSE =  1835091.4\n",
            "Epoch 14 MSE =  1835091.4\n",
            "Epoch 15 MSE =  1835091.4\n",
            "Epoch 16 MSE =  1835091.4\n",
            "Epoch 17 MSE =  1835091.4\n",
            "Epoch 18 MSE =  1835091.4\n",
            "Epoch 19 MSE =  1835091.4\n",
            "Epoch 20 MSE =  1835091.4\n",
            "Epoch 21 MSE =  1835091.4\n",
            "Epoch 22 MSE =  1835091.4\n",
            "Epoch 23 MSE =  1835091.4\n",
            "Epoch 24 MSE =  1835091.4\n",
            "Epoch 25 MSE =  1835091.4\n",
            "Epoch 26 MSE =  1835091.4\n",
            "Epoch 27 MSE =  1835091.4\n",
            "Epoch 28 MSE =  1835091.4\n",
            "Epoch 29 MSE =  1835091.4\n",
            "Epoch 30 MSE =  1835091.4\n",
            "Epoch 31 MSE =  1835091.4\n",
            "Epoch 32 MSE =  1835091.4\n",
            "Epoch 33 MSE =  1835091.4\n",
            "Epoch 34 MSE =  1835091.4\n",
            "Epoch 35 MSE =  1835091.4\n",
            "Epoch 36 MSE =  1835091.4\n",
            "Epoch 37 MSE =  1835091.4\n",
            "Epoch 38 MSE =  1835091.4\n",
            "Epoch 39 MSE =  1835091.4\n",
            "Epoch 40 MSE =  1835091.4\n",
            "Epoch 41 MSE =  1835091.4\n",
            "Epoch 42 MSE =  1835091.4\n",
            "Epoch 43 MSE =  1835091.4\n",
            "Epoch 44 MSE =  1835091.4\n",
            "Epoch 45 MSE =  1835091.4\n",
            "Epoch 46 MSE =  1835091.4\n",
            "Epoch 47 MSE =  1835091.4\n",
            "Epoch 48 MSE =  1835091.4\n",
            "Epoch 49 MSE =  1835091.4\n",
            "Epoch 50 MSE =  1835091.4\n",
            "Epoch 51 MSE =  1835091.4\n",
            "Epoch 52 MSE =  1835091.4\n",
            "Epoch 53 MSE =  1835091.4\n",
            "Epoch 54 MSE =  1835091.4\n",
            "Epoch 55 MSE =  1835091.4\n",
            "Epoch 56 MSE =  1835091.4\n",
            "Epoch 57 MSE =  1835091.4\n",
            "Epoch 58 MSE =  1835091.4\n",
            "Epoch 59 MSE =  1835091.4\n",
            "Epoch 60 MSE =  1835091.4\n",
            "Epoch 61 MSE =  1835091.4\n",
            "Epoch 62 MSE =  1835091.4\n",
            "Epoch 63 MSE =  1835091.4\n",
            "Epoch 64 MSE =  1835091.4\n",
            "Epoch 65 MSE =  1835091.4\n",
            "Epoch 66 MSE =  1835091.4\n",
            "Epoch 67 MSE =  1835091.4\n",
            "Epoch 68 MSE =  1835091.4\n",
            "Epoch 69 MSE =  1835091.4\n",
            "Epoch 70 MSE =  1835091.4\n",
            "Epoch 71 MSE =  1835091.4\n",
            "Epoch 72 MSE =  1835091.4\n",
            "Epoch 73 MSE =  1835091.4\n",
            "Epoch 74 MSE =  1835091.4\n",
            "Epoch 75 MSE =  1835091.4\n",
            "Epoch 76 MSE =  1835091.4\n",
            "Epoch 77 MSE =  1835091.4\n",
            "Epoch 78 MSE =  1835091.4\n",
            "Epoch 79 MSE =  1835091.4\n",
            "Epoch 80 MSE =  1835091.4\n",
            "Epoch 81 MSE =  1835091.4\n",
            "Epoch 82 MSE =  1835091.4\n",
            "Epoch 83 MSE =  1835091.4\n",
            "Epoch 84 MSE =  1835091.4\n",
            "Epoch 85 MSE =  1835091.4\n",
            "Epoch 86 MSE =  1835091.4\n",
            "Epoch 87 MSE =  1835091.4\n",
            "Epoch 88 MSE =  1835091.4\n",
            "Epoch 89 MSE =  1835091.4\n",
            "Epoch 90 MSE =  1835091.4\n",
            "Epoch 91 MSE =  1835091.4\n",
            "Epoch 92 MSE =  1835091.4\n",
            "Epoch 93 MSE =  1835091.4\n",
            "Epoch 94 MSE =  1835091.4\n",
            "Epoch 95 MSE =  1835091.4\n",
            "Epoch 96 MSE =  1835091.4\n",
            "Epoch 97 MSE =  1835091.4\n",
            "Epoch 98 MSE =  1835091.4\n",
            "Epoch 99 MSE =  1835091.4\n"
          ],
          "name": "stdout"
        }
      ]
    },
    {
      "cell_type": "code",
      "metadata": {
        "id": "5Pt69GklkjaK",
        "colab_type": "code",
        "outputId": "ff751258-ee98-4464-ad70-d73f681b0f73",
        "colab": {
          "base_uri": "https://localhost:8080/",
          "height": 179
        }
      },
      "source": [
        "best_theta"
      ],
      "execution_count": 0,
      "outputs": [
        {
          "output_type": "execute_result",
          "data": {
            "text/plain": [
              "array([[-2.0573330e+01],\n",
              "       [-7.7986862e+01],\n",
              "       [-5.0153912e+02],\n",
              "       [-1.0451018e+02],\n",
              "       [-2.1930006e+01],\n",
              "       [-4.9193598e+04],\n",
              "       [-7.4161217e+01],\n",
              "       [-7.0711334e+02],\n",
              "       [ 2.3812639e+03]], dtype=float32)"
            ]
          },
          "metadata": {
            "tags": []
          },
          "execution_count": 40
        }
      ]
    },
    {
      "cell_type": "markdown",
      "metadata": {
        "id": "_xJIuFVNlCvf",
        "colab_type": "text"
      },
      "source": [
        "### 2. 자동 미분 사용 \n",
        "- 텐서 플로의 자동 미분 기능이 편미분을 수행해준다. \n",
        "- gradient 함수는 하나의 연산 (여기서는 mse)과 변수 리스트 (여기서는 theta 하나)를 받아 각변에 대한 연산의 그래디언트를 계산하는 새로운 연산을 만듭니다. (변수당 하나씩)\n",
        "- 그러므로 gradients 노드는 theta에 대한 mse의 그래디언트 벡터를 계산한다. \n"
      ]
    },
    {
      "cell_type": "code",
      "metadata": {
        "id": "vTrf2HFsku98",
        "colab_type": "code",
        "colab": {}
      },
      "source": [
        "# ==  Gradient를 Tensorflow에서 제공하는 함수로 해결 == # \n",
        "# gradients = 2/m * tf.matmul(tf.transpose(x) , error )\n",
        "gradients = tf.gradients(mse , [theta])[0]"
      ],
      "execution_count": 0,
      "outputs": []
    },
    {
      "cell_type": "code",
      "metadata": {
        "id": "bpNk-da2lj3p",
        "colab_type": "code",
        "outputId": "27a97ec9-016f-42fd-8e00-8ccbdfb5c615",
        "colab": {
          "base_uri": "https://localhost:8080/",
          "height": 1000
        }
      },
      "source": [
        "training_op = tf.assign(theta, theta - learning_rate * gradients )\n",
        "\n",
        "init = tf.global_variables_initializer()\n",
        "\n",
        "with tf.Session() as sess :\n",
        "  sess.run(init)\n",
        "\n",
        "  for epoch in range(n_epochs) :\n",
        "    #if epoch % 100 == 0 :\n",
        "    print(\"Epoch\" , epoch , \"MSE = \" , mse.eval())\n",
        "    \n",
        "  sess.run(training_op)\n",
        "  best_theta = theta.eval()\n"
      ],
      "execution_count": 0,
      "outputs": [
        {
          "output_type": "stream",
          "text": [
            "Epoch 0 MSE =  273398.16\n",
            "Epoch 1 MSE =  273398.16\n",
            "Epoch 2 MSE =  273398.16\n",
            "Epoch 3 MSE =  273398.16\n",
            "Epoch 4 MSE =  273398.16\n",
            "Epoch 5 MSE =  273398.16\n",
            "Epoch 6 MSE =  273398.16\n",
            "Epoch 7 MSE =  273398.16\n",
            "Epoch 8 MSE =  273398.16\n",
            "Epoch 9 MSE =  273398.16\n",
            "Epoch 10 MSE =  273398.16\n",
            "Epoch 11 MSE =  273398.16\n",
            "Epoch 12 MSE =  273398.16\n",
            "Epoch 13 MSE =  273398.16\n",
            "Epoch 14 MSE =  273398.16\n",
            "Epoch 15 MSE =  273398.16\n",
            "Epoch 16 MSE =  273398.16\n",
            "Epoch 17 MSE =  273398.16\n",
            "Epoch 18 MSE =  273398.16\n",
            "Epoch 19 MSE =  273398.16\n",
            "Epoch 20 MSE =  273398.16\n",
            "Epoch 21 MSE =  273398.16\n",
            "Epoch 22 MSE =  273398.16\n",
            "Epoch 23 MSE =  273398.16\n",
            "Epoch 24 MSE =  273398.16\n",
            "Epoch 25 MSE =  273398.16\n",
            "Epoch 26 MSE =  273398.16\n",
            "Epoch 27 MSE =  273398.16\n",
            "Epoch 28 MSE =  273398.16\n",
            "Epoch 29 MSE =  273398.16\n",
            "Epoch 30 MSE =  273398.16\n",
            "Epoch 31 MSE =  273398.16\n",
            "Epoch 32 MSE =  273398.16\n",
            "Epoch 33 MSE =  273398.16\n",
            "Epoch 34 MSE =  273398.16\n",
            "Epoch 35 MSE =  273398.16\n",
            "Epoch 36 MSE =  273398.16\n",
            "Epoch 37 MSE =  273398.16\n",
            "Epoch 38 MSE =  273398.16\n",
            "Epoch 39 MSE =  273398.16\n",
            "Epoch 40 MSE =  273398.16\n",
            "Epoch 41 MSE =  273398.16\n",
            "Epoch 42 MSE =  273398.16\n",
            "Epoch 43 MSE =  273398.16\n",
            "Epoch 44 MSE =  273398.16\n",
            "Epoch 45 MSE =  273398.16\n",
            "Epoch 46 MSE =  273398.16\n",
            "Epoch 47 MSE =  273398.16\n",
            "Epoch 48 MSE =  273398.16\n",
            "Epoch 49 MSE =  273398.16\n",
            "Epoch 50 MSE =  273398.16\n",
            "Epoch 51 MSE =  273398.16\n",
            "Epoch 52 MSE =  273398.16\n",
            "Epoch 53 MSE =  273398.16\n",
            "Epoch 54 MSE =  273398.16\n",
            "Epoch 55 MSE =  273398.16\n",
            "Epoch 56 MSE =  273398.16\n",
            "Epoch 57 MSE =  273398.16\n",
            "Epoch 58 MSE =  273398.16\n",
            "Epoch 59 MSE =  273398.16\n",
            "Epoch 60 MSE =  273398.16\n",
            "Epoch 61 MSE =  273398.16\n",
            "Epoch 62 MSE =  273398.16\n",
            "Epoch 63 MSE =  273398.16\n",
            "Epoch 64 MSE =  273398.16\n",
            "Epoch 65 MSE =  273398.16\n",
            "Epoch 66 MSE =  273398.16\n",
            "Epoch 67 MSE =  273398.16\n",
            "Epoch 68 MSE =  273398.16\n",
            "Epoch 69 MSE =  273398.16\n",
            "Epoch 70 MSE =  273398.16\n",
            "Epoch 71 MSE =  273398.16\n",
            "Epoch 72 MSE =  273398.16\n",
            "Epoch 73 MSE =  273398.16\n",
            "Epoch 74 MSE =  273398.16\n",
            "Epoch 75 MSE =  273398.16\n",
            "Epoch 76 MSE =  273398.16\n",
            "Epoch 77 MSE =  273398.16\n",
            "Epoch 78 MSE =  273398.16\n",
            "Epoch 79 MSE =  273398.16\n",
            "Epoch 80 MSE =  273398.16\n",
            "Epoch 81 MSE =  273398.16\n",
            "Epoch 82 MSE =  273398.16\n",
            "Epoch 83 MSE =  273398.16\n",
            "Epoch 84 MSE =  273398.16\n",
            "Epoch 85 MSE =  273398.16\n",
            "Epoch 86 MSE =  273398.16\n",
            "Epoch 87 MSE =  273398.16\n",
            "Epoch 88 MSE =  273398.16\n",
            "Epoch 89 MSE =  273398.16\n",
            "Epoch 90 MSE =  273398.16\n",
            "Epoch 91 MSE =  273398.16\n",
            "Epoch 92 MSE =  273398.16\n",
            "Epoch 93 MSE =  273398.16\n",
            "Epoch 94 MSE =  273398.16\n",
            "Epoch 95 MSE =  273398.16\n",
            "Epoch 96 MSE =  273398.16\n",
            "Epoch 97 MSE =  273398.16\n",
            "Epoch 98 MSE =  273398.16\n",
            "Epoch 99 MSE =  273398.16\n"
          ],
          "name": "stdout"
        }
      ]
    },
    {
      "cell_type": "code",
      "metadata": {
        "id": "IQ7jFJ6tlzZD",
        "colab_type": "code",
        "outputId": "f8c27838-0cec-4926-8516-6741939731e2",
        "colab": {
          "base_uri": "https://localhost:8080/",
          "height": 179
        }
      },
      "source": [
        "best_theta"
      ],
      "execution_count": 0,
      "outputs": [
        {
          "output_type": "execute_result",
          "data": {
            "text/plain": [
              "array([[ 9.4697914e+00],\n",
              "       [ 3.5494461e+01],\n",
              "       [ 2.3402312e+02],\n",
              "       [ 4.7008373e+01],\n",
              "       [ 9.9896698e+00],\n",
              "       [ 1.8891609e+04],\n",
              "       [ 3.2307907e+01],\n",
              "       [ 3.1592712e+02],\n",
              "       [-1.0644103e+03]], dtype=float32)"
            ]
          },
          "metadata": {
            "tags": []
          },
          "execution_count": 55
        }
      ]
    },
    {
      "cell_type": "markdown",
      "metadata": {
        "id": "hELuBeysoMnA",
        "colab_type": "text"
      },
      "source": [
        "### 3. 옵티마이져 사용 \n",
        "- 텐서플로는 자동으로 그래디언트를 계산해준다. \n",
        "- 하지만 경사하강법 옵티마이져를 포함하여 여러가지 내장 옵티마지거를 제공한다. \n",
        "- 기존에 직접 할당해야 하는데 자동으로 해준다. \n"
      ]
    },
    {
      "cell_type": "code",
      "metadata": {
        "id": "cnAu_DhHl-Rp",
        "colab_type": "code",
        "colab": {}
      },
      "source": [
        "optimizer = tf.train.GradientDescentOptimizer(learning_rate=learning_rate)\n",
        "training_op = optimizer.minimize(mse)"
      ],
      "execution_count": 0,
      "outputs": []
    },
    {
      "cell_type": "markdown",
      "metadata": {
        "id": "VtpJsXdCoqXj",
        "colab_type": "text"
      },
      "source": [
        "## 경사하강법 예제 # 1"
      ]
    },
    {
      "cell_type": "code",
      "metadata": {
        "id": "YUBWbi1goiF3",
        "colab_type": "code",
        "outputId": "4ed5b686-f4c8-494b-ec9b-cea851d05708",
        "colab": {
          "base_uri": "https://localhost:8080/",
          "height": 285
        }
      },
      "source": [
        "import matplotlib.pyplot as plt\n",
        "\n",
        "# 랜덤 데이터 생성 \n",
        "num_points = 1000\n",
        "x_data = []\n",
        "y_data = []\n",
        "for i in range(num_points):\n",
        "    x1 = np.random.normal(0.0, 0.55)\n",
        "    y1 = x1 * 0.1 + 0.3 + np.random.normal(0.0, 0.03)\n",
        "    x_data.append(x1)\n",
        "    y_data.append(y1)\n",
        "plt.plot(x_data, y_data, 'ro')"
      ],
      "execution_count": 0,
      "outputs": [
        {
          "output_type": "execute_result",
          "data": {
            "text/plain": [
              "[<matplotlib.lines.Line2D at 0x7f8d4b470240>]"
            ]
          },
          "metadata": {
            "tags": []
          },
          "execution_count": 59
        },
        {
          "output_type": "display_data",
          "data": {
            "image/png": "[encoded data removed]",
            "text/plain": [
              "<Figure size 432x288 with 1 Axes>"
            ]
          },
          "metadata": {
            "tags": [],
            "needs_background": "light"
          }
        }
      ]
    },
    {
      "cell_type": "code",
      "metadata": {
        "id": "c-kCx68EozWy",
        "colab_type": "code",
        "colab": {}
      },
      "source": [
        "#경사하강법의 손실 함수를 최소화하는 모델 파라미터를 찾기위해 \n",
        "# 텐서플로의 GradientDescentOptimizer를 사용 \n",
        "\n",
        "#optimizer = tf.train.GradientDescentOptimizer(0.5)\n",
        "#train = optimizer.minimize(loss)"
      ],
      "execution_count": 0,
      "outputs": []
    },
    {
      "cell_type": "code",
      "metadata": {
        "id": "2bxnTeYhpNWN",
        "colab_type": "code",
        "colab": {}
      },
      "source": [
        "# 학습을 하기 위해 그래프 생성 \n",
        "\n",
        "g1 = tf.Graph() \n",
        "with g1.as_default():\n",
        "    W = tf.Variable(tf.random_uniform([1], -1.0, 1.0)) \n",
        "    b = tf.Variable(tf.zeros([1])) \n",
        "    y = W * x_data + b \n",
        "    loss = tf.reduce_mean(tf.square(y - y_data))\n",
        "    dW, db = tf.gradients(loss, [W, b]) \n",
        "    update_W = tf.assign(W, W - 0.5 * dW) \n",
        "    update_b = tf.assign(b, b - 0.5 * db)\n"
      ],
      "execution_count": 0,
      "outputs": []
    },
    {
      "cell_type": "code",
      "metadata": {
        "id": "QJHSxmI8qerj",
        "colab_type": "code",
        "outputId": "d3a91832-bbe5-4532-82a7-d4a7a08bb269",
        "colab": {
          "base_uri": "https://localhost:8080/",
          "height": 35
        }
      },
      "source": [
        "tf.random_uniform([1], -1.0, 1.0)"
      ],
      "execution_count": 0,
      "outputs": [
        {
          "output_type": "execute_result",
          "data": {
            "text/plain": [
              "<tf.Tensor 'random_uniform_9:0' shape=(1,) dtype=float32>"
            ]
          },
          "metadata": {
            "tags": []
          },
          "execution_count": 73
        }
      ]
    },
    {
      "cell_type": "code",
      "metadata": {
        "id": "UwosrxFAphAX",
        "colab_type": "code",
        "colab": {}
      },
      "source": [
        "# 손실함수 모델 파라메타  w, b에 대해 \n",
        "# 손실 함수 loss의 미분을 구하여 각각 w와 b에 업데이트 하는것 \n",
        "# gradients 함수로써 구현 \n",
        "\n",
        "# dW, db = tf.gradients(loss, [W, b])\n",
        "# update_W = tf.assign(W, W - 0.5 * dW)\n",
        "# update_b = tf.assign(b, b - 0.5 * db)"
      ],
      "execution_count": 0,
      "outputs": []
    },
    {
      "cell_type": "code",
      "metadata": {
        "id": "cj_DFL4Ppipy",
        "colab_type": "code",
        "outputId": "1ea6e607-618e-4101-ca52-fd10131bb321",
        "colab": {
          "base_uri": "https://localhost:8080/",
          "height": 267
        }
      },
      "source": [
        "# 모델을 훈련 시킨다는것은 데이터를 이용해 오차를 구하고 오차에 해단 그래디언트를 계산해서 \n",
        "# 모델 파라미터를 업데이트 하는 것이다. \n",
        "# 텐서플로로 실행할 작업은 모델 파라미터를 업데이트 하는 update_w, update_b 텐서를 실행하는 것!\n",
        "with tf.Session(graph=g1) as sess:\n",
        "    sess.run(tf.global_variables_initializer())\n",
        "    for step in range(20):\n",
        "      sess.run([update_W, update_b])\n",
        "      Wp, bp = sess.run([W, b])\n",
        "    # 산포도 그리기\n",
        "    plt.plot(x_data, y_data, 'ro')\n",
        "    # 직선 그리기\n",
        "    plt.plot(x_data, Wp * x_data + bp)"
      ],
      "execution_count": 0,
      "outputs": [
        {
          "output_type": "display_data",
          "data": {
            "image/png": "[encoded data removed]",
            "text/plain": [
              "<Figure size 432x288 with 1 Axes>"
            ]
          },
          "metadata": {
            "tags": [],
            "needs_background": "light"
          }
        }
      ]
    },
    {
      "cell_type": "markdown",
      "metadata": {
        "id": "k-Co_LTcqtPt",
        "colab_type": "text"
      },
      "source": [
        "# 훈련 알고리즘에 데이터 주입 \n",
        "- [ placeholder ]  : 실제로 아무 계산도 하지 않는 특수한 노드 , 실행 시에 주입한 데이터를 출력하기만 한다. \n",
        "- 이 노드는 전형적으로 훈련을 하는 동안 텐서플로에 훈련 데이터를 전달하기 위해 사용됩니다. \n",
        "- 실행 시 플레이스홀더에 값을 지정하지 않으면 예외가 발생 \n"
      ]
    },
    {
      "cell_type": "code",
      "metadata": {
        "id": "a00um1t6qAWm",
        "colab_type": "code",
        "outputId": "5eda1d9e-2c37-4316-dbbe-d2bc6f94b667",
        "colab": {
          "base_uri": "https://localhost:8080/",
          "height": 71
        }
      },
      "source": [
        "# placeholder()를 호출하여 노드를 생성. 출력 텐서의 데이터 타입을 지정한다. \n",
        "# (None ,3) : 차원은 none으로 설정하여 어떤 크기도 가능하다는 의미가 된다. \n",
        "# 하지만 열은 꼭 3개가 되야 한다. \n",
        "a = tf.placeholder(tf.float32 , shape = (None ,3 ))\n",
        "\n",
        "\n",
        "b = a + 5 \n",
        "with tf.Session() as sess :\n",
        "  b_val_1 = b.eval(feed_dict = { a: [[1, 2, 3 ]] })\n",
        "  b_val_2 = b.eval(feed_dict = { a: [[1, 2, 3 ] , [4 , 5 , 6]] })\n",
        "\n",
        "\n",
        "print(b_val_1)\n",
        "print(b_val_2)\n"
      ],
      "execution_count": 0,
      "outputs": [
        {
          "output_type": "stream",
          "text": [
            "[[6. 7. 8.]]\n",
            "[[ 6.  7.  8.]\n",
            " [ 9. 10. 11.]]\n"
          ],
          "name": "stdout"
        }
      ]
    },
    {
      "cell_type": "code",
      "metadata": {
        "id": "FiRGnKb9uAPk",
        "colab_type": "code",
        "colab": {}
      },
      "source": [
        "# 구성 단계 : x, y의 정의를  placeholder로 변경 \n",
        "x = tf.placeholder(tf.float32 , shape=(None , n+1) , name= 'x')\n",
        "y = tf.placeholder(tf.float32 , shape=(None , 1) , name= 'y')\n"
      ],
      "execution_count": 0,
      "outputs": []
    },
    {
      "cell_type": "code",
      "metadata": {
        "id": "5ccLIibmujNE",
        "colab_type": "code",
        "outputId": "8a762bd0-a7f2-4a82-a614-3a1f94dc7c66",
        "colab": {
          "base_uri": "https://localhost:8080/",
          "height": 35
        }
      },
      "source": [
        "batch_size = 100 \n",
        "n_batches = int (np.ceil( m / batch_size))\n",
        "print (m)"
      ],
      "execution_count": 0,
      "outputs": [
        {
          "output_type": "stream",
          "text": [
            "20640\n"
          ],
          "name": "stdout"
        }
      ]
    },
    {
      "cell_type": "code",
      "metadata": {
        "id": "B5w2Hl-Auvtn",
        "colab_type": "code",
        "colab": {}
      },
      "source": [
        ""
      ],
      "execution_count": 0,
      "outputs": []
    }
  ]
}